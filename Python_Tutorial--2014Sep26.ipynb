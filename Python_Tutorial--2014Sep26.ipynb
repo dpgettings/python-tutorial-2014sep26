{
 "metadata": {
  "name": ""
 },
 "nbformat": 3,
 "nbformat_minor": 0,
 "worksheets": [
  {
   "cells": [
    {
     "cell_type": "code",
     "collapsed": false,
     "input": [
      "# Shell commands -- start with !\n",
      "!ls\n",
      "!pwd"
     ],
     "language": "python",
     "metadata": {},
     "outputs": [
      {
       "output_type": "stream",
       "stream": "stdout",
       "text": [
        "LICENSE                          Python_Tutorial--2014Sep26.ipynb README.md                        whatever.py\r\n"
       ]
      },
      {
       "output_type": "stream",
       "stream": "stdout",
       "text": [
        "/Users/dg/Astronomy/Astro_Tutorials/Intro/python-tutorial-2014sep26\r\n"
       ]
      }
     ],
     "prompt_number": 1
    },
    {
     "cell_type": "code",
     "collapsed": false,
     "input": [
      "# Here's a .py file I made earlier...\n",
      "!cat whatever.py"
     ],
     "language": "python",
     "metadata": {},
     "outputs": [
      {
       "output_type": "stream",
       "stream": "stdout",
       "text": [
        "import numpy as np\r\n",
        "\r\n",
        "print \"Hey!\"\r\n",
        "print\r\n"
       ]
      }
     ],
     "prompt_number": 2
    },
    {
     "cell_type": "code",
     "collapsed": false,
     "input": [
      "# I can also load the .py file as code...\n",
      "# Loading magic\n",
      "%load whatever.py"
     ],
     "language": "python",
     "metadata": {},
     "outputs": [],
     "prompt_number": 3
    },
    {
     "cell_type": "code",
     "collapsed": false,
     "input": [
      "import numpy as np\n",
      "\n",
      "print \"Hey!\"\n",
      "print\n"
     ],
     "language": "python",
     "metadata": {},
     "outputs": []
    },
    {
     "cell_type": "code",
     "collapsed": false,
     "input": [
      "import numpy as np\n",
      "\n",
      "print \"Hey!\"\n",
      "print\n"
     ],
     "language": "python",
     "metadata": {},
     "outputs": [
      {
       "output_type": "stream",
       "stream": "stdout",
       "text": [
        "Hey!\n",
        "\n"
       ]
      }
     ],
     "prompt_number": 4
    },
    {
     "cell_type": "code",
     "collapsed": false,
     "input": [
      "# List Range\n",
      "a = range(10)\n",
      "print a\n",
      "print type(a)\n",
      "print a*2  # Lists don't multiply like arrays do!"
     ],
     "language": "python",
     "metadata": {},
     "outputs": [
      {
       "output_type": "stream",
       "stream": "stdout",
       "text": [
        "[0, 1, 2, 3, 4, 5, 6, 7, 8, 9]\n",
        "<type 'list'>\n",
        "[0, 1, 2, 3, 4, 5, 6, 7, 8, 9, 0, 1, 2, 3, 4, 5, 6, 7, 8, 9]\n"
       ]
      }
     ],
     "prompt_number": 5
    },
    {
     "cell_type": "code",
     "collapsed": false,
     "input": [
      "# Numpy Version\n",
      "a = np.arange(10)\n",
      "print a\n",
      "print type(a)\n",
      "print a*2"
     ],
     "language": "python",
     "metadata": {},
     "outputs": [
      {
       "output_type": "stream",
       "stream": "stdout",
       "text": [
        "[0 1 2 3 4 5 6 7 8 9]\n",
        "<type 'numpy.ndarray'>\n",
        "[ 0  2  4  6  8 10 12 14 16 18]\n"
       ]
      }
     ],
     "prompt_number": 6
    },
    {
     "cell_type": "code",
     "collapsed": false,
     "input": [
      "# Lists\n",
      "list1 = [1,2,'banana']\n",
      "list2 = list((1,2,'banana'))\n",
      "empty_list = []\n",
      "empty_list.append('strawberry')\n",
      "print list1 == list2\n",
      "print empty_list"
     ],
     "language": "python",
     "metadata": {},
     "outputs": [
      {
       "output_type": "stream",
       "stream": "stdout",
       "text": [
        "True\n",
        "['strawberry']\n"
       ]
      }
     ],
     "prompt_number": 7
    },
    {
     "cell_type": "code",
     "collapsed": false,
     "input": [
      "# Tuple\n",
      "tuple1 = (1,2,'banana')\n",
      "tuple2 = tuple((1,2,'banana'))\n",
      "print tuple2[-1]"
     ],
     "language": "python",
     "metadata": {},
     "outputs": [
      {
       "output_type": "stream",
       "stream": "stdout",
       "text": [
        "banana\n"
       ]
      }
     ],
     "prompt_number": 8
    },
    {
     "cell_type": "code",
     "collapsed": false,
     "input": [
      "# Dictionary\n",
      "empty_dict = {}\n",
      "print empty_dict\n",
      "dict1 = {\"\"\"one\"\"\":1, '2':'two', \"banana\":'strawberry'}\n",
      "print dict1"
     ],
     "language": "python",
     "metadata": {},
     "outputs": [
      {
       "output_type": "stream",
       "stream": "stdout",
       "text": [
        "{}\n",
        "{'2': 'two', 'banana': 'strawberry', 'one': 1}\n"
       ]
      }
     ],
     "prompt_number": 9
    },
    {
     "cell_type": "code",
     "collapsed": false,
     "input": [
      "# Another way of doing dictionary\n",
      "dict2 = {}\n",
      "dict2[\"\"\"one\"\"\"] = 1\n",
      "print dict2"
     ],
     "language": "python",
     "metadata": {},
     "outputs": [
      {
       "output_type": "stream",
       "stream": "stdout",
       "text": [
        "{'one': 1}\n"
       ]
      }
     ],
     "prompt_number": 10
    },
    {
     "cell_type": "code",
     "collapsed": false,
     "input": [
      "# Putting arrays in dictionaries\n",
      "dict3 = {}\n",
      "dict3['arr1'] = np.arange(0,1,0.1)\n",
      "print '\\nBefore: ', dict3\n",
      "dict3['arr1'] *= 2\n",
      "print '\\nAfter: ', dict3\n",
      "dict3['arr1'] = dict3['arr1'] * 2\n",
      "print '\\nAfter: ', dict3"
     ],
     "language": "python",
     "metadata": {},
     "outputs": [
      {
       "output_type": "stream",
       "stream": "stdout",
       "text": [
        "\n",
        "Before:  {'arr1': array([ 0. ,  0.1,  0.2,  0.3,  0.4,  0.5,  0.6,  0.7,  0.8,  0.9])}\n",
        "\n",
        "After:  {'arr1': array([ 0. ,  0.2,  0.4,  0.6,  0.8,  1. ,  1.2,  1.4,  1.6,  1.8])}\n",
        "\n",
        "After:  {'arr1': array([ 0. ,  0.4,  0.8,  1.2,  1.6,  2. ,  2.4,  2.8,  3.2,  3.6])}\n"
       ]
      }
     ],
     "prompt_number": 11
    },
    {
     "cell_type": "code",
     "collapsed": false,
     "input": [
      "# Timing\n",
      "# Which way of multiplying is faster?\n",
      "%timeit dict3['arr1'] *= 1\n",
      "%timeit dict3['arr1'] = dict3['arr1'] * 1"
     ],
     "language": "python",
     "metadata": {},
     "outputs": [
      {
       "output_type": "stream",
       "stream": "stdout",
       "text": [
        "100000 loops, best of 3: 4.58 \u00b5s per loop\n",
        "100000 loops, best of 3: 7.27 \u00b5s per loop"
       ]
      },
      {
       "output_type": "stream",
       "stream": "stdout",
       "text": [
        "\n"
       ]
      }
     ],
     "prompt_number": 12
    },
    {
     "cell_type": "code",
     "collapsed": false,
     "input": [
      "print 'List'\n",
      "z_list = [0.]*11\n",
      "print z_list\n",
      "\n",
      "# Numpy version of 'zeros'\n",
      "print '\\nNumpy'\n",
      "z = np.zeros(11)\n",
      "print z\n",
      "\n",
      "# Setting the value of a list element -- Same [] syntax as Numpy arrays\n",
      "print '\\nAfter value change'\n",
      "z[3] = 1\n",
      "print z"
     ],
     "language": "python",
     "metadata": {},
     "outputs": [
      {
       "output_type": "stream",
       "stream": "stdout",
       "text": [
        "List\n",
        "[0.0, 0.0, 0.0, 0.0, 0.0, 0.0, 0.0, 0.0, 0.0, 0.0, 0.0]\n",
        "\n",
        "Numpy\n",
        "[ 0.  0.  0.  0.  0.  0.  0.  0.  0.  0.  0.]\n",
        "\n",
        "After value change\n",
        "[ 0.  0.  0.  1.  0.  0.  0.  0.  0.  0.  0.]\n"
       ]
      }
     ],
     "prompt_number": 13
    },
    {
     "cell_type": "code",
     "collapsed": false,
     "input": [
      "# Memory Stuff\n",
      "# -------------\n",
      "# Make an array\n",
      "arr1 = np.arange(11)\n",
      "print arr1\n",
      "print '\\nID of arr1: ', id(arr1)  # Python's unique ID-number for this array object\n",
      "\n",
      "# Numpy is VERY conservative on memory\n",
      "arr2 = arr1  # This doesn't copy\n",
      "print 'ID of arr2: ', id(arr2)   # It's the same as id(arr1) !!\n",
      "\n",
      "print 'Comparing arrays'\n",
      "print id(arr1) == id(arr2)\n",
      "print arr1 is arr2\n",
      "\n",
      "# Forcing copy\n",
      "arr3 = np.copy(arr1)\n",
      "arr4 = arr1.copy()\n",
      "print '\\nComparing arrays after copy'\n",
      "print id(arr3), id(arr4)\n",
      "print 'arr3 is arr4?'\n",
      "print arr3 is arr4\n",
      "\n",
      "\n",
      "# Putting an array into a Python dict --> DOES NOT COPY!\n",
      "dict4 = {}\n",
      "dict4['arr2'] = arr2\n",
      "print '\\nArrays inside dictionaries:'\n",
      "print dict4['arr2']\n",
      "print 'id(arr2) =', id(arr2)\n",
      "print \"\"\"id(dict4['arr2']) =\"\"\", id(dict4['arr2']) # Same array!\n",
      "\n",
      "print \"\"\"arr2 is dict4['arr2'] : \"\"\", \n",
      "print arr2 is dict4['arr2'] # Same array!"
     ],
     "language": "python",
     "metadata": {},
     "outputs": [
      {
       "output_type": "stream",
       "stream": "stdout",
       "text": [
        "[ 0  1  2  3  4  5  6  7  8  9 10]\n",
        "\n",
        "ID of arr1:  4345631808\n",
        "ID of arr2:  4345631808\n",
        "Comparing arrays\n",
        "True\n",
        "True\n",
        "\n",
        "Comparing arrays after copy\n",
        "4345628592 4345629248\n",
        "arr3 is arr4?\n",
        "False\n",
        "\n",
        "Arrays inside dictionaries:\n",
        "[ 0  1  2  3  4  5  6  7  8  9 10]\n",
        "id(arr2) = 4345631808\n",
        "id(dict4['arr2']) = 4345631808\n",
        "arr2 is dict4['arr2'] :  True\n"
       ]
      }
     ],
     "prompt_number": 14
    },
    {
     "cell_type": "code",
     "collapsed": false,
     "input": [
      "# Plotting Stuff\n",
      "import matplotlib as mpl\n",
      "from matplotlib import pyplot as plt\n",
      "\n",
      "# Starting from scratch, with just a Figure object\n",
      "fig2 = plt.figure(figsize=(10,10))\n",
      "\n",
      "# Make some fake data\n",
      "xdata = np.random.rand(20)\n",
      "ydata = np.random.rand(20)\n",
      "\n",
      "# We can add axes manually by specifying their size & location\n",
      "# -----\n",
      "# This will be the \"data\" subplot\n",
      "rect1 = [0.1, 0.1, 0.5, 0.5]  # Left, Bottom, Width, Height (normalized, from 0 to 1)\n",
      "ax1 = fig2.add_axes(rect1)\n",
      "ax1.plot(xdata, ydata, lw=0, marker='s', markerfacecolor='none', ms=10, mew='0.5', mec='#346824')\n",
      "\n",
      "# This can be a \"residuals\" subplot\n",
      "rect2 = [0.1, 0.6, 0.5, 0.1]  # Left, Bottom, Width, Height (normalized, from 0 to 1)\n",
      "ax2 = fig2.add_axes(rect2)\n",
      "#ax2.xaxis.set_visible(False) # Hide the ENTIRE x-axis\n",
      "plt.setp(ax2.get_yticklabels(), visible=False)  # Hide just y-axis tick labels\n",
      "\n",
      "# Let's make the \"residuals\" subplot a 1-dimensional marginalized density\n",
      "binsize = 0.1\n",
      "low, high = 0, 1\n",
      "nbins = int((high-low) / binsize) + 1\n",
      "bins = np.linspace(low, high, num=nbins, endpoint=True)\n",
      "\n",
      "x_density = np.histogram(xdata, bins=bins)[0]\n",
      "x_density = x_density / float(len(xdata))\n",
      "\n",
      "plot_bins = (bins[:-1] + bins[1:]) / 2.0\n",
      "ax2.plot(plot_bins, x_density, marker='x', drawstyle='steps-mid')\n",
      "#ax2.plot(\n",
      "ax2.set_ylim(0, x_density.max()*1.1)\n",
      "ax2.set_xlim(0,1)\n",
      "\n",
      "plt.show()\n"
     ],
     "language": "python",
     "metadata": {},
     "outputs": [
      {
       "metadata": {},
       "output_type": "display_data",
       "png": "[encoded data removed]",
       "text": [
        "<matplotlib.figure.Figure at 0x104c902d0>"
       ]
      }
     ],
     "prompt_number": 15
    },
    {
     "cell_type": "code",
     "collapsed": false,
     "input": [
      "# MISC: Demonstrating the creation of AxesSubplot objects\n",
      "# Axes interface\n",
      "fig, axes = plt.subplots(nrows=2, ncols=3, figsize=(6,6))\n",
      "print axes.shape\n",
      "axes.reshape(-1)"
     ],
     "language": "python",
     "metadata": {},
     "outputs": [
      {
       "output_type": "stream",
       "stream": "stdout",
       "text": [
        "(2, 3)\n"
       ]
      },
      {
       "metadata": {},
       "output_type": "pyout",
       "prompt_number": 16,
       "text": [
        "array([<matplotlib.axes.AxesSubplot object at 0x104c8ef10>,\n",
        "       <matplotlib.axes.AxesSubplot object at 0x1051c5f90>,\n",
        "       <matplotlib.axes.AxesSubplot object at 0x10534ae10>,\n",
        "       <matplotlib.axes.AxesSubplot object at 0x1053accd0>,\n",
        "       <matplotlib.axes.AxesSubplot object at 0x10542ea90>,\n",
        "       <matplotlib.axes.AxesSubplot object at 0x105492790>], dtype=object)"
       ]
      },
      {
       "metadata": {},
       "output_type": "display_data",
       "png": "[encoded data removed]",
       "text": [
        "<matplotlib.figure.Figure at 0x104c8e9d0>"
       ]
      }
     ],
     "prompt_number": 16
    },
    {
     "cell_type": "code",
     "collapsed": false,
     "input": [],
     "language": "python",
     "metadata": {},
     "outputs": [],
     "prompt_number": 16
    }
   ],
   "metadata": {}
  }
 ]
}